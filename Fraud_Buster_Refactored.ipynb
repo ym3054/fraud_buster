{
 "cells": [
  {
   "cell_type": "markdown",
   "id": "79fc7d4f",
   "metadata": {},
   "source": [
    "# 🛡️ Fraud Buster ML\n",
    "\n",
    "This notebook demonstrates a full pipeline for detecting fraudulent transactions using e-commerce data. The core logic is abstracted in `utils.py` for reusability and modularity."
   ]
  },
  {
   "cell_type": "code",
   "execution_count": null,
   "id": "f98b6e79",
   "metadata": {},
   "outputs": [],
   "source": [
    "from utils import load_data, clean_data, feature_engineer, balance_and_scale, train_models, evaluate_model, plot_roc, plot_feature_importance\n",
    "import pandas as pd\n",
    "from sklearn.model_selection import train_test_split\n"
   ]
  },
  {
   "cell_type": "markdown",
   "id": "9a0f08b1",
   "metadata": {},
   "source": [
    "## 1. Load and Clean Data"
   ]
  },
  {
   "cell_type": "code",
   "execution_count": null,
   "id": "9869a27b",
   "metadata": {},
   "outputs": [],
   "source": [
    "df1, df2 = load_data()\n",
    "df = clean_data(df1, df2)\n",
    "df.shape\n"
   ]
  },
  {
   "cell_type": "markdown",
   "id": "fd611af8",
   "metadata": {},
   "source": [
    "## 2. Feature Engineering"
   ]
  },
  {
   "cell_type": "code",
   "execution_count": null,
   "id": "d951a303",
   "metadata": {},
   "outputs": [],
   "source": [
    "df = feature_engineer(df)\n",
    "df.head()\n"
   ]
  },
  {
   "cell_type": "markdown",
   "id": "90186780",
   "metadata": {},
   "source": [
    "## 3. Split Data"
   ]
  },
  {
   "cell_type": "code",
   "execution_count": null,
   "id": "e97601b1",
   "metadata": {},
   "outputs": [],
   "source": [
    "X = df.drop('Is Fraudulent', axis=1)\n",
    "y = df['Is Fraudulent']\n",
    "X_train, X_test, y_train, y_test = train_test_split(X, y, test_size=0.2, stratify=y, random_state=42)\n"
   ]
  },
  {
   "cell_type": "markdown",
   "id": "01c9ea3a",
   "metadata": {},
   "source": [
    "## 4. Balance and Scale Data using SMOTE"
   ]
  },
  {
   "cell_type": "code",
   "execution_count": null,
   "id": "4b356a2f",
   "metadata": {},
   "outputs": [],
   "source": [
    "X_train_bal, y_train_bal = balance_and_scale(X_train, y_train)\n",
    "X_test_scaled, _ = balance_and_scale(X_test, y_test)  # scale test set without SMOTE\n"
   ]
  },
  {
   "cell_type": "markdown",
   "id": "c7035ea2",
   "metadata": {},
   "source": [
    "## 5. Train Models"
   ]
  },
  {
   "cell_type": "code",
   "execution_count": null,
   "id": "67cab465",
   "metadata": {},
   "outputs": [],
   "source": [
    "models = train_models(X_train_bal, y_train_bal)\n"
   ]
  },
  {
   "cell_type": "markdown",
   "id": "1bd293ac",
   "metadata": {},
   "source": [
    "## 6. Evaluate Models"
   ]
  },
  {
   "cell_type": "code",
   "execution_count": null,
   "id": "cb2eba15",
   "metadata": {},
   "outputs": [],
   "source": [
    "evaluate_model(models, X_test_scaled, y_test)\n"
   ]
  },
  {
   "cell_type": "markdown",
   "id": "ccbb6c61",
   "metadata": {},
   "source": [
    "## 7. ROC Curves"
   ]
  },
  {
   "cell_type": "code",
   "execution_count": null,
   "id": "96fcb40c",
   "metadata": {},
   "outputs": [],
   "source": [
    "plot_roc(models, X_test_scaled, y_test)\n"
   ]
  },
  {
   "cell_type": "markdown",
   "id": "5235c064",
   "metadata": {},
   "source": [
    "## 8. Feature Importance (Random Forest Only)"
   ]
  },
  {
   "cell_type": "code",
   "execution_count": null,
   "id": "be87d130",
   "metadata": {},
   "outputs": [],
   "source": [
    "plot_feature_importance(models['Random Forest'], X.columns)\n"
   ]
  }
 ],
 "metadata": {},
 "nbformat": 4,
 "nbformat_minor": 5
}
